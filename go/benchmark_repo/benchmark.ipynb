{
 "cells": [
  {
   "cell_type": "code",
   "execution_count": 5,
   "id": "78e26a2d",
   "metadata": {},
   "outputs": [],
   "source": [
    "import seaborn as sns\n",
    "import numpy as np\n",
    "import pandas as pd"
   ]
  },
  {
   "cell_type": "code",
   "execution_count": 53,
   "id": "832e1162",
   "metadata": {},
   "outputs": [
    {
     "name": "stdout",
     "output_type": "stream",
     "text": [
      "dict_keys(['GO_ROUTINE_ONLINE_READ', 'GET_ONLINE_FEATURES_OPTIMIZED', 'GOROUTINE_GET_ONLINE_FEATURES', 'NO_GO_ROUTINE', 'GO_ROUTINE_GET_FEATURES_TO_USE', 'GET_ONLINE_FEATURES_OPTIMIZED_DO_ALL', 'GOROUTINE_GET_ONLINE_FEATURES_DO_ALL'])\n"
     ]
    }
   ],
   "source": [
    "results = {}\n",
    "with open(\"benchmark.txt\", 'r') as f:\n",
    "    start_do_all = False\n",
    "    for line in f.readlines():\n",
    "        line = line.strip(\" \\n\")\n",
    "        if len(line) == 0:\n",
    "            continue\n",
    "        tup = line.split(\": \")\n",
    "        if len(tup) < 2:\n",
    "            start_do_all = True\n",
    "            continue\n",
    "        name, array = tup\n",
    "        if start_do_all:\n",
    "            name = name + \"_DO_ALL\"\n",
    "        array = array.split(',')\n",
    "        for i in range(len(array)):\n",
    "            array[i] = int(array[i])\n",
    "        results[name] = array\n",
    "print(results.keys())"
   ]
  },
  {
   "cell_type": "code",
   "execution_count": 54,
   "id": "7cd77361",
   "metadata": {},
   "outputs": [
    {
     "data": {
      "text/plain": [
       "10000"
      ]
     },
     "execution_count": 54,
     "metadata": {},
     "output_type": "execute_result"
    }
   ],
   "source": [
    "len(results['GO_ROUTINE_ONLINE_READ'])"
   ]
  },
  {
   "cell_type": "code",
   "execution_count": 55,
   "id": "bf614d75",
   "metadata": {},
   "outputs": [
    {
     "data": {
      "text/plain": [
       "['GO_ROUTINE_ONLINE_READ',\n",
       " 'GET_ONLINE_FEATURES_OPTIMIZED',\n",
       " 'GOROUTINE_GET_ONLINE_FEATURES',\n",
       " 'NO_GO_ROUTINE',\n",
       " 'GO_ROUTINE_GET_FEATURES_TO_USE',\n",
       " 'GET_ONLINE_FEATURES_OPTIMIZED_DO_ALL',\n",
       " 'GOROUTINE_GET_ONLINE_FEATURES_DO_ALL']"
      ]
     },
     "execution_count": 55,
     "metadata": {},
     "output_type": "execute_result"
    }
   ],
   "source": [
    "keys = list(results.keys())\n",
    "keys"
   ]
  },
  {
   "cell_type": "code",
   "execution_count": 56,
   "id": "1e93764d",
   "metadata": {},
   "outputs": [],
   "source": [
    "percentiles = {}\n",
    "for k,v in results.items():\n",
    "    arr = []\n",
    "    for percent in [50, 90, 95, 99]:\n",
    "        arr.append(np.percentile(v, percent))\n",
    "    percentiles[k] = arr"
   ]
  },
  {
   "cell_type": "code",
   "execution_count": 57,
   "id": "c1f34140",
   "metadata": {},
   "outputs": [
    {
     "data": {
      "text/html": [
       "<div>\n",
       "<style scoped>\n",
       "    .dataframe tbody tr th:only-of-type {\n",
       "        vertical-align: middle;\n",
       "    }\n",
       "\n",
       "    .dataframe tbody tr th {\n",
       "        vertical-align: top;\n",
       "    }\n",
       "\n",
       "    .dataframe thead th {\n",
       "        text-align: right;\n",
       "    }\n",
       "</style>\n",
       "<table border=\"1\" class=\"dataframe\">\n",
       "  <thead>\n",
       "    <tr style=\"text-align: right;\">\n",
       "      <th></th>\n",
       "      <th>GO_ROUTINE_ONLINE_READ</th>\n",
       "      <th>GET_ONLINE_FEATURES_OPTIMIZED</th>\n",
       "      <th>GOROUTINE_GET_ONLINE_FEATURES</th>\n",
       "      <th>NO_GO_ROUTINE</th>\n",
       "      <th>GO_ROUTINE_GET_FEATURES_TO_USE</th>\n",
       "      <th>GET_ONLINE_FEATURES_OPTIMIZED_DO_ALL</th>\n",
       "      <th>GOROUTINE_GET_ONLINE_FEATURES_DO_ALL</th>\n",
       "    </tr>\n",
       "  </thead>\n",
       "  <tbody>\n",
       "    <tr>\n",
       "      <th>50%</th>\n",
       "      <td>896.00</td>\n",
       "      <td>1053.00</td>\n",
       "      <td>1082.00</td>\n",
       "      <td>1157.00</td>\n",
       "      <td>1180.00</td>\n",
       "      <td>1155.00</td>\n",
       "      <td>1002.00</td>\n",
       "    </tr>\n",
       "    <tr>\n",
       "      <th>90%</th>\n",
       "      <td>502100.50</td>\n",
       "      <td>1906.00</td>\n",
       "      <td>1935.00</td>\n",
       "      <td>2105.00</td>\n",
       "      <td>2146.00</td>\n",
       "      <td>2085.10</td>\n",
       "      <td>1834.10</td>\n",
       "    </tr>\n",
       "    <tr>\n",
       "      <th>95%</th>\n",
       "      <td>529735.70</td>\n",
       "      <td>2145.20</td>\n",
       "      <td>2155.15</td>\n",
       "      <td>2253.00</td>\n",
       "      <td>2439.10</td>\n",
       "      <td>2319.05</td>\n",
       "      <td>2069.05</td>\n",
       "    </tr>\n",
       "    <tr>\n",
       "      <th>99%</th>\n",
       "      <td>796925.16</td>\n",
       "      <td>4845.77</td>\n",
       "      <td>4739.33</td>\n",
       "      <td>3427.41</td>\n",
       "      <td>4266.04</td>\n",
       "      <td>4106.51</td>\n",
       "      <td>4572.29</td>\n",
       "    </tr>\n",
       "  </tbody>\n",
       "</table>\n",
       "</div>"
      ],
      "text/plain": [
       "     GO_ROUTINE_ONLINE_READ  GET_ONLINE_FEATURES_OPTIMIZED  \\\n",
       "50%                  896.00                        1053.00   \n",
       "90%               502100.50                        1906.00   \n",
       "95%               529735.70                        2145.20   \n",
       "99%               796925.16                        4845.77   \n",
       "\n",
       "     GOROUTINE_GET_ONLINE_FEATURES  NO_GO_ROUTINE  \\\n",
       "50%                        1082.00        1157.00   \n",
       "90%                        1935.00        2105.00   \n",
       "95%                        2155.15        2253.00   \n",
       "99%                        4739.33        3427.41   \n",
       "\n",
       "     GO_ROUTINE_GET_FEATURES_TO_USE  GET_ONLINE_FEATURES_OPTIMIZED_DO_ALL  \\\n",
       "50%                         1180.00                               1155.00   \n",
       "90%                         2146.00                               2085.10   \n",
       "95%                         2439.10                               2319.05   \n",
       "99%                         4266.04                               4106.51   \n",
       "\n",
       "     GOROUTINE_GET_ONLINE_FEATURES_DO_ALL  \n",
       "50%                               1002.00  \n",
       "90%                               1834.10  \n",
       "95%                               2069.05  \n",
       "99%                               4572.29  "
      ]
     },
     "execution_count": 57,
     "metadata": {},
     "output_type": "execute_result"
    }
   ],
   "source": [
    "indices = ['50%', '90%', '95%', '99%']\n",
    "df = pd.DataFrame.from_dict(percentiles)\n",
    "# df = df.reindex(indices)\n",
    "df.index = indices\n",
    "df"
   ]
  },
  {
   "cell_type": "code",
   "execution_count": 58,
   "id": "0356803b",
   "metadata": {},
   "outputs": [
    {
     "name": "stdout",
     "output_type": "stream",
     "text": [
      "7\n",
      "['GO_ROUTINE_ONLINE_READ', 'GET_ONLINE_FEATURES_OPTIMIZED', 'GOROUTINE_GET_ONLINE_FEATURES', 'NO_GO_ROUTINE', 'GO_ROUTINE_GET_FEATURES_TO_USE', 'GET_ONLINE_FEATURES_OPTIMIZED_DO_ALL', 'GOROUTINE_GET_ONLINE_FEATURES_DO_ALL']\n"
     ]
    }
   ],
   "source": [
    "num_keys = len(keys)\n",
    "print(num_keys)\n",
    "print(keys)\n",
    "col1 = keys[:(num_keys//2)]\n",
    "col2 = keys[(num_keys//2):]"
   ]
  },
  {
   "cell_type": "code",
   "execution_count": 59,
   "id": "7a7b1c6c",
   "metadata": {},
   "outputs": [
    {
     "data": {
      "text/html": [
       "<div>\n",
       "<style scoped>\n",
       "    .dataframe tbody tr th:only-of-type {\n",
       "        vertical-align: middle;\n",
       "    }\n",
       "\n",
       "    .dataframe tbody tr th {\n",
       "        vertical-align: top;\n",
       "    }\n",
       "\n",
       "    .dataframe thead th {\n",
       "        text-align: right;\n",
       "    }\n",
       "</style>\n",
       "<table border=\"1\" class=\"dataframe\">\n",
       "  <thead>\n",
       "    <tr style=\"text-align: right;\">\n",
       "      <th></th>\n",
       "      <th>GO_ROUTINE_ONLINE_READ</th>\n",
       "      <th>GET_ONLINE_FEATURES_OPTIMIZED</th>\n",
       "      <th>GOROUTINE_GET_ONLINE_FEATURES</th>\n",
       "    </tr>\n",
       "  </thead>\n",
       "  <tbody>\n",
       "    <tr>\n",
       "      <th>50%</th>\n",
       "      <td>896.00</td>\n",
       "      <td>1053.00</td>\n",
       "      <td>1082.00</td>\n",
       "    </tr>\n",
       "    <tr>\n",
       "      <th>90%</th>\n",
       "      <td>502100.50</td>\n",
       "      <td>1906.00</td>\n",
       "      <td>1935.00</td>\n",
       "    </tr>\n",
       "    <tr>\n",
       "      <th>95%</th>\n",
       "      <td>529735.70</td>\n",
       "      <td>2145.20</td>\n",
       "      <td>2155.15</td>\n",
       "    </tr>\n",
       "    <tr>\n",
       "      <th>99%</th>\n",
       "      <td>796925.16</td>\n",
       "      <td>4845.77</td>\n",
       "      <td>4739.33</td>\n",
       "    </tr>\n",
       "  </tbody>\n",
       "</table>\n",
       "</div>"
      ],
      "text/plain": [
       "     GO_ROUTINE_ONLINE_READ  GET_ONLINE_FEATURES_OPTIMIZED  \\\n",
       "50%                  896.00                        1053.00   \n",
       "90%               502100.50                        1906.00   \n",
       "95%               529735.70                        2145.20   \n",
       "99%               796925.16                        4845.77   \n",
       "\n",
       "     GOROUTINE_GET_ONLINE_FEATURES  \n",
       "50%                        1082.00  \n",
       "90%                        1935.00  \n",
       "95%                        2155.15  \n",
       "99%                        4739.33  "
      ]
     },
     "execution_count": 59,
     "metadata": {},
     "output_type": "execute_result"
    }
   ],
   "source": [
    "df[col1]"
   ]
  },
  {
   "cell_type": "code",
   "execution_count": 60,
   "id": "9204f0d7",
   "metadata": {},
   "outputs": [
    {
     "data": {
      "text/html": [
       "<div>\n",
       "<style scoped>\n",
       "    .dataframe tbody tr th:only-of-type {\n",
       "        vertical-align: middle;\n",
       "    }\n",
       "\n",
       "    .dataframe tbody tr th {\n",
       "        vertical-align: top;\n",
       "    }\n",
       "\n",
       "    .dataframe thead th {\n",
       "        text-align: right;\n",
       "    }\n",
       "</style>\n",
       "<table border=\"1\" class=\"dataframe\">\n",
       "  <thead>\n",
       "    <tr style=\"text-align: right;\">\n",
       "      <th></th>\n",
       "      <th>NO_GO_ROUTINE</th>\n",
       "      <th>GO_ROUTINE_GET_FEATURES_TO_USE</th>\n",
       "      <th>GET_ONLINE_FEATURES_OPTIMIZED_DO_ALL</th>\n",
       "      <th>GOROUTINE_GET_ONLINE_FEATURES_DO_ALL</th>\n",
       "    </tr>\n",
       "  </thead>\n",
       "  <tbody>\n",
       "    <tr>\n",
       "      <th>50%</th>\n",
       "      <td>1157.00</td>\n",
       "      <td>1180.00</td>\n",
       "      <td>1155.00</td>\n",
       "      <td>1002.00</td>\n",
       "    </tr>\n",
       "    <tr>\n",
       "      <th>90%</th>\n",
       "      <td>2105.00</td>\n",
       "      <td>2146.00</td>\n",
       "      <td>2085.10</td>\n",
       "      <td>1834.10</td>\n",
       "    </tr>\n",
       "    <tr>\n",
       "      <th>95%</th>\n",
       "      <td>2253.00</td>\n",
       "      <td>2439.10</td>\n",
       "      <td>2319.05</td>\n",
       "      <td>2069.05</td>\n",
       "    </tr>\n",
       "    <tr>\n",
       "      <th>99%</th>\n",
       "      <td>3427.41</td>\n",
       "      <td>4266.04</td>\n",
       "      <td>4106.51</td>\n",
       "      <td>4572.29</td>\n",
       "    </tr>\n",
       "  </tbody>\n",
       "</table>\n",
       "</div>"
      ],
      "text/plain": [
       "     NO_GO_ROUTINE  GO_ROUTINE_GET_FEATURES_TO_USE  \\\n",
       "50%        1157.00                         1180.00   \n",
       "90%        2105.00                         2146.00   \n",
       "95%        2253.00                         2439.10   \n",
       "99%        3427.41                         4266.04   \n",
       "\n",
       "     GET_ONLINE_FEATURES_OPTIMIZED_DO_ALL  \\\n",
       "50%                               1155.00   \n",
       "90%                               2085.10   \n",
       "95%                               2319.05   \n",
       "99%                               4106.51   \n",
       "\n",
       "     GOROUTINE_GET_ONLINE_FEATURES_DO_ALL  \n",
       "50%                               1002.00  \n",
       "90%                               1834.10  \n",
       "95%                               2069.05  \n",
       "99%                               4572.29  "
      ]
     },
     "execution_count": 60,
     "metadata": {},
     "output_type": "execute_result"
    }
   ],
   "source": [
    "df[col2]"
   ]
  },
  {
   "cell_type": "code",
   "execution_count": null,
   "id": "9ae496ae",
   "metadata": {},
   "outputs": [],
   "source": []
  }
 ],
 "metadata": {
  "kernelspec": {
   "display_name": "Python 3 (ipykernel)",
   "language": "python",
   "name": "python3"
  },
  "language_info": {
   "codemirror_mode": {
    "name": "ipython",
    "version": 3
   },
   "file_extension": ".py",
   "mimetype": "text/x-python",
   "name": "python",
   "nbconvert_exporter": "python",
   "pygments_lexer": "ipython3",
   "version": "3.7.10"
  }
 },
 "nbformat": 4,
 "nbformat_minor": 5
}
